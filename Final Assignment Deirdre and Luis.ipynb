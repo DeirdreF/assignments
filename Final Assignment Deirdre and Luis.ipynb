{
 "cells": [
  {
   "cell_type": "markdown",
   "metadata": {},
   "source": [
    "|Name|examnr.|\n",
    "|----|-------|\n",
    "|Deirdre Folan|2011440|\n",
    "|Luis Batalha|2016399|"
   ]
  },
  {
   "cell_type": "markdown",
   "metadata": {},
   "source": [
    "# Research Question"
   ]
  },
  {
   "cell_type": "markdown",
   "metadata": {},
   "source": [
    "How does recycling behaviour differ across the Netherlands according to municiplaity size and province? Do provinces that recycle more also tweet more about the environment?\n"
   ]
  },
  {
   "cell_type": "markdown",
   "metadata": {},
   "source": [
    "# Motivation - Why is Recycling Important and What Does it Have to do With Twitter?"
   ]
  },
  {
   "cell_type": "markdown",
   "metadata": {},
   "source": [
    "In recent decades we have seen an explosion of the world population coupled with massive increases in industrialisation which has pushed our planet to its very limits. Climate change, degradation of soils and ecosystems, and decreases in biodiversity have become a major concern and it has become widely accepted that, at current rates of population growth and consumption, our environment as we know it will soon be unable to sustain life as it has done in the past. In response to this, governments have been heavily promoting and investing in the three R's framework, reduce, reuse, and recycle. This framework aims to create norms in society where one does not waste valuable goods or materials and limits the impacts of economic development on non-renewable resources [source:Grosse,2010](https://journals.openedition.org/sapiens/906) \n",
    "\n",
    "So we can see that recycling is becoming an increasingly important issue in society. As concerns for our environment grow and the threat of global warming increases much research has pointed towards poor waste management as a cause of environmental damage and a producer of harmful gases. Although significant efforts have been made to reduce volumes of waste in recent decades, The Netherlands still produces significantly more waste per person than the OECD average, in 2015, Dutch citizens produced approximately 43kg more waste each than their OECD counterparts (see this [graph](https://data.oecd.org/waste/municipal-waste.htm) for details). As existing landfill sites are reaching capacity and space for new ones is limited, it is widely accepted that the best option for the future is recycling as much as possible in order to reduce the proportion of waste that ends op in landfill sites and reducing waste in general. Reducing waste and increasing levels of recycling can help to slow down damage to the environment and improve quality of life for both humans and nature.\n",
    "As establishing good recycling practices among the population is an important step in ensuring sustainable development we decided to see if this behaviour differs across the Netherlands. We measured the differences in behaviour by municipality size and province as perhaps this could expose some pattern that could be useful in ensuring good outcomes nationwide.\n",
    "\n",
    "Twitter is a popular online platform for both personal expression and advertising which had approximately 0.87 million daily active users in the Netherlands in 2017 (see [here](https://www.statista.com/statistics/639790/social-media-active-user-penetration-in-the-netherlands-by-social-network/) for details) this means it is a powerful tool for imfluencing public opinion and behaviour. Much [research](http://www.tandfonline.com/doi/abs/10.1080/13504620220145401) has pointed towards social norms and morality as two of the main motivators for recycling behaviour. Therefore it seems likely that Twitter can influence how people think about recycling and their recycling behaviour. For our analysis, we decided to look at the provinces who had the best and worst scores and see how often people in those provinces tweet about sustainability to see if there really is any kind of relationship between tweeting about the environment and actually taking action to prevent damage to it. \n"
   ]
  },
  {
   "cell_type": "markdown",
   "metadata": {},
   "source": [
    "# Method"
   ]
  },
  {
   "cell_type": "markdown",
   "metadata": {},
   "source": [
    "For the first part of our analysis we used data from [Telos](http://www.telos.nl/default.aspx), the Brabant centre for sustainable development. The organisation is mainly focused on researching sustainability in the region as its economy grows and making sure the region stays on track to achieving a range of environmental goals set by the [Brabant Manifest](https://www.brabant.nl/-/media/1a3c16857da74e699993d6ff640779c1.pdf). \n",
    "We used an indicator developed by Telos called 'resources and waste' which assigns a score to each municipality based on waste management and recycling levels in that municipality. A higher score indicates that the municipality is doing well and vice versa. We calculated the mean and median scores by size and province and did a kruskal-wallis test to check whether the sample originated from the same distribution or not. \n",
    " \n",
    "Next we mined data from Twitter in the Netherlands and searched for keyword 'duurzaamheid', the dutch for 'sustainability'. In order to mine data from Twitter, we first created a developer app in Twitter API. Then, we chose the Netherlands by inserting the country's Where On Earth ID. This presented us with the trending topics for the Netherlands over the past few days. We then filtered the trending topics by the keyword 'duurzaamheid'. We then used a counter to aggregate the amount of times the keyword was used in each of the top 20 locations. As these locations are self-reported by users this data was quite noisy and difficult to manipulate e.g. 'Nederland' and 'The Netherlands' were recorded seperately. As a result of this we decided to copy the data into an excel file, remove duplicate locations, and add the province name to each row. We then uploaded the file as a pandas dataframe and calculated the total number of tweets by province. Finally compared this to the mean score by province on the resources and waste indicator."
   ]
  },
  {
   "cell_type": "markdown",
   "metadata": {},
   "source": [
    "# Results"
   ]
  },
  {
   "cell_type": "markdown",
   "metadata": {},
   "source": [
    "When comparing the mean score on the resources and waste indicator we found that small towns performed best while large towns performed the worst, as can be seen in the graph below. When calculating the median scores we found that they varied from 50.9 for small municipalities to 42.5 for large towns. We can see in the next graph that, when the municipalities are divided by province and the means are calculated, Limburg and Gelderland perform the best, closely followed by Overijssel and Noord-Brabant. The two worst-performing provinces are Noord-Holland and Zuid-Holland. Using a kruskal-wallis test we established that the scores for small, medium, and large towns are statistically significantly different from each other.  \n",
    "After mining the data from Twitter we can see that  our key word was mentioned 261 times during the time period. We can also see that it was used as a hashtag 102 times (in two different forms). We can also see that when talking about sustainability, users often hashtag related terms such as 'EZEnergyAward', 'innovation', 'government', and 'economy'. Finally, by looking at the regions with a high volume of tweets e.g. Noord-Holland and looking at the graph of mean scores by provence, we can see that there seems to be no relationship between resources and waste scores and tweet volumes. "
   ]
  },
  {
   "cell_type": "code",
   "execution_count": 56,
   "metadata": {
    "collapsed": true
   },
   "outputs": [],
   "source": [
    "import pandas as pd\n",
    "import plotly.plotly as py\n",
    "from plotly.graph_objs import *\n",
    "import plotly.tools as tls\n",
    "import numpy as np"
   ]
  },
  {
   "cell_type": "code",
   "execution_count": 57,
   "metadata": {
    "collapsed": true
   },
   "outputs": [],
   "source": [
    "from scipy import stats\n"
   ]
  },
  {
   "cell_type": "markdown",
   "metadata": {},
   "source": [
    "Below we import the Excel file as a pandas datafram and then print it to get a look at the data. Municipality size is recorded as 3 seperate dummy variables. In order to calculate the means and mediums for each size we need to get rid of the dummmy variables and organise the data by municipality size."
   ]
  },
  {
   "cell_type": "code",
   "execution_count": 186,
   "metadata": {
    "collapsed": true
   },
   "outputs": [],
   "source": [
    "df=pd.read_excel(r\"C:\\Users\\DFOLA_000\\Downloads\\SustainabilityScoresPython.xlsx\", index_col=0, sep = ';')"
   ]
  },
  {
   "cell_type": "code",
   "execution_count": 187,
   "metadata": {},
   "outputs": [
    {
     "data": {
      "text/plain": [
       "pandas.core.frame.DataFrame"
      ]
     },
     "execution_count": 187,
     "metadata": {},
     "output_type": "execute_result"
    }
   ],
   "source": [
    "type(df)"
   ]
  },
  {
   "cell_type": "code",
   "execution_count": 188,
   "metadata": {},
   "outputs": [
    {
     "name": "stdout",
     "output_type": "stream",
     "text": [
      "                      municipality  Small  Medium  Large  resources_waste  \\\n",
      "province                                                                    \n",
      "Drenthe                Aa en Hunze      1       0      0             48.4   \n",
      "Noord-Brabant              Aalburg      1       0      0             56.2   \n",
      "Noord-Holland             Aalsmeer      1       0      0             51.2   \n",
      "Gelderland                  Aalten      1       0      0             61.2   \n",
      "Friesland            Achtkarspelen      1       0      0             45.6   \n",
      "Zuid-Holland          Alblasserdam      1       0      0             35.4   \n",
      "Zuid-Holland         Albrandswaard      1       0      0             43.2   \n",
      "Noord-Holland              Alkmaar      0       0      1             42.5   \n",
      "Overijssel                  Almelo      0       1      0             44.7   \n",
      "Flevoland                   Almere      0       0      1             49.9   \n",
      "Zuid-Holland   Alphen aan den Rijn      0       0      1             37.6   \n",
      "Noord-Brabant         Alphen-Chaam      1       0      0             45.6   \n",
      "Friesland                  Ameland      1       0      0             52.1   \n",
      "Utrecht                 Amersfoort      0       0      1             38.8   \n",
      "Noord-Holland           Amstelveen      0       1      0             46.8   \n",
      "Noord-Holland            Amsterdam      0       0      1             30.6   \n",
      "Gelderland               Apeldoorn      0       0      1             65.6   \n",
      "Groningen               Appingedam      1       0      0             46.2   \n",
      "Gelderland                  Arnhem      0       0      1             38.5   \n",
      "Drenthe                      Assen      0       1      0             48.7   \n",
      "Noord-Brabant                Asten      1       0      0             64.1   \n",
      "Noord-Brabant        Baarle-Nassau      1       0      0             54.7   \n",
      "Utrecht                      Baarn      1       0      0             48.2   \n",
      "Zuid-Holland           Barendrecht      1       0      0             21.8   \n",
      "Gelderland               Barneveld      0       1      0             46.8   \n",
      "Groningen                    Bedum      1       0      0             41.0   \n",
      "Limburg                  Beek (L.)      1       0      0             67.2   \n",
      "Noord-Holland             Beemster      1       0      0             40.2   \n",
      "Limburg                     Beesel      1       0      0             68.4   \n",
      "Groningen             Bellingwedde      1       0      0             48.7   \n",
      "...                            ...    ...     ...    ...              ...   \n",
      "Zuid-Holland              Westland      1       0      0             42.2   \n",
      "Friesland         Weststellingwerf      1       0      0             45.4   \n",
      "Zuid-Holland            Westvoorne      1       0      0             42.6   \n",
      "Overijssel                 Wierden      1       0      0             54.6   \n",
      "Gelderland                 Wijchen      1       0      0             55.6   \n",
      "Noord-Holland           Wijdemeren      1       0      0             48.1   \n",
      "Utrecht         Wijk bij Duurstede      1       0      0             49.8   \n",
      "Groningen                   Winsum      1       0      0             66.8   \n",
      "Gelderland             Winterswijk      1       0      0             54.3   \n",
      "Noord-Brabant          Woensdrecht      0       1      0             58.7   \n",
      "Utrecht                    Woerden      1       0      0             45.3   \n",
      "Noord-Holland           Wormerland      1       0      0             44.2   \n",
      "Utrecht                 Woudenberg      1       0      0             51.0   \n",
      "Noord-Brabant           Woudrichem      1       0      0             57.7   \n",
      "Noord-Holland             Zaanstad      0       0      1             34.1   \n",
      "Gelderland              Zaltbommel      1       0      0             61.6   \n",
      "Noord-Holland            Zandvoort      1       0      0             38.7   \n",
      "Zuid-Holland               Zederik      1       0      0             41.5   \n",
      "Flevoland                 Zeewolde      1       0      0             45.3   \n",
      "Utrecht                      Zeist      0       1      0             46.2   \n",
      "Gelderland                Zevenaar      1       0      0             51.0   \n",
      "Zuid-Holland            Zoetermeer      0       0      1             37.6   \n",
      "Zuid-Holland           Zoeterwoude      1       0      0             57.3   \n",
      "Groningen                 Zuidhorn      1       0      0             62.7   \n",
      "Zuid-Holland              Zuidplas      1       0      0             60.5   \n",
      "Noord-Brabant              Zundert      1       0      0             61.9   \n",
      "Gelderland                 Zutphen      1       0      0             62.7   \n",
      "Overijssel         Zwartewaterland      1       0      0             71.5   \n",
      "Zuid-Holland           Zwijndrecht      1       0      0             35.5   \n",
      "Overijssel                  Zwolle      0       0      1             44.2   \n",
      "\n",
      "              province_duplicate  \n",
      "province                          \n",
      "Drenthe                  Drenthe  \n",
      "Noord-Brabant      Noord-Brabant  \n",
      "Noord-Holland      Noord-Holland  \n",
      "Gelderland            Gelderland  \n",
      "Friesland              Friesland  \n",
      "Zuid-Holland        Zuid-Holland  \n",
      "Zuid-Holland        Zuid-Holland  \n",
      "Noord-Holland      Noord-Holland  \n",
      "Overijssel            Overijssel  \n",
      "Flevoland              Flevoland  \n",
      "Zuid-Holland        Zuid-Holland  \n",
      "Noord-Brabant      Noord-Brabant  \n",
      "Friesland              Friesland  \n",
      "Utrecht                  Utrecht  \n",
      "Noord-Holland      Noord-Holland  \n",
      "Noord-Holland      Noord-Holland  \n",
      "Gelderland            Gelderland  \n",
      "Groningen              Groningen  \n",
      "Gelderland            Gelderland  \n",
      "Drenthe                  Drenthe  \n",
      "Noord-Brabant      Noord-Brabant  \n",
      "Noord-Brabant      Noord-Brabant  \n",
      "Utrecht                  Utrecht  \n",
      "Zuid-Holland        Zuid-Holland  \n",
      "Gelderland            Gelderland  \n",
      "Groningen              Groningen  \n",
      "Limburg                  Limburg  \n",
      "Noord-Holland      Noord-Holland  \n",
      "Limburg                  Limburg  \n",
      "Groningen              Groningen  \n",
      "...                          ...  \n",
      "Zuid-Holland        Zuid-Holland  \n",
      "Friesland              Friesland  \n",
      "Zuid-Holland        Zuid-Holland  \n",
      "Overijssel            Overijssel  \n",
      "Gelderland            Gelderland  \n",
      "Noord-Holland      Noord-Holland  \n",
      "Utrecht                  Utrecht  \n",
      "Groningen              Groningen  \n",
      "Gelderland            Gelderland  \n",
      "Noord-Brabant      Noord-Brabant  \n",
      "Utrecht                  Utrecht  \n",
      "Noord-Holland      Noord-Holland  \n",
      "Utrecht                  Utrecht  \n",
      "Noord-Brabant      Noord-Brabant  \n",
      "Noord-Holland      Noord-Holland  \n",
      "Gelderland            Gelderland  \n",
      "Noord-Holland      Noord-Holland  \n",
      "Zuid-Holland        Zuid-Holland  \n",
      "Flevoland              Flevoland  \n",
      "Utrecht                  Utrecht  \n",
      "Gelderland            Gelderland  \n",
      "Zuid-Holland        Zuid-Holland  \n",
      "Zuid-Holland        Zuid-Holland  \n",
      "Groningen              Groningen  \n",
      "Zuid-Holland        Zuid-Holland  \n",
      "Noord-Brabant      Noord-Brabant  \n",
      "Gelderland            Gelderland  \n",
      "Overijssel            Overijssel  \n",
      "Zuid-Holland        Zuid-Holland  \n",
      "Overijssel            Overijssel  \n",
      "\n",
      "[388 rows x 6 columns]\n"
     ]
    }
   ],
   "source": [
    "print(df)"
   ]
  },
  {
   "cell_type": "code",
   "execution_count": 189,
   "metadata": {},
   "outputs": [
    {
     "name": "stdout",
     "output_type": "stream",
     "text": [
      "                municipality  Small  Medium  Large  resources_waste  \\\n",
      "province                                                              \n",
      "Drenthe          Aa en Hunze      1       0      0             48.4   \n",
      "Noord-Brabant        Aalburg      1       0      0             56.2   \n",
      "Noord-Holland       Aalsmeer      1       0      0             51.2   \n",
      "Gelderland            Aalten      1       0      0             61.2   \n",
      "Friesland      Achtkarspelen      1       0      0             45.6   \n",
      "\n",
      "              province_duplicate  \n",
      "province                          \n",
      "Drenthe                  Drenthe  \n",
      "Noord-Brabant      Noord-Brabant  \n",
      "Noord-Holland      Noord-Holland  \n",
      "Gelderland            Gelderland  \n",
      "Friesland              Friesland  \n"
     ]
    }
   ],
   "source": [
    "print(df.head())"
   ]
  },
  {
   "cell_type": "code",
   "execution_count": 190,
   "metadata": {
    "collapsed": true
   },
   "outputs": [],
   "source": [
    "#Creating three new columns one for each size which will contain text instead of the dummy variables which can then be combined into a single column\n",
    "df['Size1'] = np.where(df['Small']==1, 'small', '')"
   ]
  },
  {
   "cell_type": "code",
   "execution_count": 191,
   "metadata": {},
   "outputs": [
    {
     "name": "stdout",
     "output_type": "stream",
     "text": [
      "                municipality  Small  Medium  Large  resources_waste  \\\n",
      "province                                                              \n",
      "Drenthe          Aa en Hunze      1       0      0             48.4   \n",
      "Noord-Brabant        Aalburg      1       0      0             56.2   \n",
      "Noord-Holland       Aalsmeer      1       0      0             51.2   \n",
      "Gelderland            Aalten      1       0      0             61.2   \n",
      "Friesland      Achtkarspelen      1       0      0             45.6   \n",
      "\n",
      "              province_duplicate  Size1  \n",
      "province                                 \n",
      "Drenthe                  Drenthe  small  \n",
      "Noord-Brabant      Noord-Brabant  small  \n",
      "Noord-Holland      Noord-Holland  small  \n",
      "Gelderland            Gelderland  small  \n",
      "Friesland              Friesland  small  \n"
     ]
    }
   ],
   "source": [
    "print(df.head())"
   ]
  },
  {
   "cell_type": "code",
   "execution_count": 192,
   "metadata": {
    "collapsed": true
   },
   "outputs": [],
   "source": [
    "df['Size2'] = np.where(df['Medium']==1, 'medium', '')"
   ]
  },
  {
   "cell_type": "code",
   "execution_count": 193,
   "metadata": {
    "collapsed": true
   },
   "outputs": [],
   "source": [
    "df['Size3'] = np.where(df['Large']==1, 'large', '')"
   ]
  },
  {
   "cell_type": "code",
   "execution_count": 194,
   "metadata": {},
   "outputs": [
    {
     "name": "stdout",
     "output_type": "stream",
     "text": [
      "                municipality  Small  Medium  Large  resources_waste  \\\n",
      "province                                                              \n",
      "Drenthe          Aa en Hunze      1       0      0             48.4   \n",
      "Noord-Brabant        Aalburg      1       0      0             56.2   \n",
      "Noord-Holland       Aalsmeer      1       0      0             51.2   \n",
      "Gelderland            Aalten      1       0      0             61.2   \n",
      "Friesland      Achtkarspelen      1       0      0             45.6   \n",
      "\n",
      "              province_duplicate  Size1 Size2 Size3  \n",
      "province                                             \n",
      "Drenthe                  Drenthe  small              \n",
      "Noord-Brabant      Noord-Brabant  small              \n",
      "Noord-Holland      Noord-Holland  small              \n",
      "Gelderland            Gelderland  small              \n",
      "Friesland              Friesland  small              \n"
     ]
    }
   ],
   "source": [
    "print(df.head())"
   ]
  },
  {
   "cell_type": "code",
   "execution_count": 195,
   "metadata": {
    "collapsed": true
   },
   "outputs": [],
   "source": [
    "#Replacing the emply cells in size1 with the filled cells from size2.\n",
    "df = df.replace('', np.nan)\n",
    "\n",
    "df.Size1 = df.Size1.fillna(df.Size2)"
   ]
  },
  {
   "cell_type": "code",
   "execution_count": 196,
   "metadata": {
    "collapsed": true
   },
   "outputs": [],
   "source": [
    "#As above, we fill the empty cells in size1 with the filled cells from size3.\n",
    "df.Size1 = df.Size1.fillna(df.Size3)"
   ]
  },
  {
   "cell_type": "code",
   "execution_count": 197,
   "metadata": {
    "collapsed": true,
    "scrolled": false
   },
   "outputs": [],
   "source": [
    "#Deleting size2 and size3 as their content has now been copied into size1.\n",
    "df.drop(['Size2'], axis = 1, inplace = True)\n",
    "df.drop(['Size3'], axis = 1, inplace = True)\n"
   ]
  },
  {
   "cell_type": "code",
   "execution_count": 198,
   "metadata": {},
   "outputs": [
    {
     "name": "stdout",
     "output_type": "stream",
     "text": [
      "                municipality  resources_waste province_duplicate  Size1\n",
      "province                                                               \n",
      "Drenthe          Aa en Hunze             48.4            Drenthe  small\n",
      "Noord-Brabant        Aalburg             56.2      Noord-Brabant  small\n",
      "Noord-Holland       Aalsmeer             51.2      Noord-Holland  small\n",
      "Gelderland            Aalten             61.2         Gelderland  small\n",
      "Friesland      Achtkarspelen             45.6          Friesland  small\n"
     ]
    }
   ],
   "source": [
    "#Deleting the three columns which contained the dummy variables as they are no longer useful.\n",
    "df.drop(['Small'], axis = 1, inplace = True)\n",
    "df.drop(['Medium'], axis = 1, inplace = True)\n",
    "df.drop(['Large'], axis = 1, inplace = True)\n",
    "print(df.head())"
   ]
  },
  {
   "cell_type": "code",
   "execution_count": 199,
   "metadata": {
    "collapsed": true
   },
   "outputs": [],
   "source": [
    "#Creating three new dataframes for each municipality size in order to calculate the mean and median scores\n",
    "small_mun = df[df.Size1 == 'small']"
   ]
  },
  {
   "cell_type": "code",
   "execution_count": 200,
   "metadata": {},
   "outputs": [
    {
     "name": "stdout",
     "output_type": "stream",
     "text": [
      "                municipality  resources_waste province_duplicate  Size1\n",
      "province                                                               \n",
      "Drenthe          Aa en Hunze             48.4            Drenthe  small\n",
      "Noord-Brabant        Aalburg             56.2      Noord-Brabant  small\n",
      "Noord-Holland       Aalsmeer             51.2      Noord-Holland  small\n",
      "Gelderland            Aalten             61.2         Gelderland  small\n",
      "Friesland      Achtkarspelen             45.6          Friesland  small\n"
     ]
    }
   ],
   "source": [
    "print(small_mun.head())"
   ]
  },
  {
   "cell_type": "code",
   "execution_count": 201,
   "metadata": {},
   "outputs": [
    {
     "name": "stdout",
     "output_type": "stream",
     "text": [
      "                 municipality  resources_waste province_duplicate   Size1\n",
      "province                                                                 \n",
      "Overijssel             Almelo             44.7         Overijssel  medium\n",
      "Noord-Holland      Amstelveen             46.8      Noord-Holland  medium\n",
      "Drenthe                 Assen             48.7            Drenthe  medium\n",
      "Gelderland          Barneveld             46.8         Gelderland  medium\n",
      "Noord-Brabant  Bergen op Zoom             49.7      Noord-Brabant  medium\n"
     ]
    }
   ],
   "source": [
    "medium_mun = df[df.Size1 == 'medium']\n",
    "print(medium_mun.head())"
   ]
  },
  {
   "cell_type": "code",
   "execution_count": 202,
   "metadata": {},
   "outputs": [
    {
     "name": "stdout",
     "output_type": "stream",
     "text": [
      "                      municipality  resources_waste province_duplicate  Size1\n",
      "province                                                                     \n",
      "Noord-Holland              Alkmaar             42.5      Noord-Holland  large\n",
      "Flevoland                   Almere             49.9          Flevoland  large\n",
      "Zuid-Holland   Alphen aan den Rijn             37.6       Zuid-Holland  large\n",
      "Utrecht                 Amersfoort             38.8            Utrecht  large\n",
      "Noord-Holland            Amsterdam             30.6      Noord-Holland  large\n"
     ]
    }
   ],
   "source": [
    "large_mun = df[df.Size1 == 'large']\n",
    "print(large_mun.head())"
   ]
  },
  {
   "cell_type": "code",
   "execution_count": 203,
   "metadata": {
    "collapsed": true
   },
   "outputs": [],
   "source": [
    "#Calculating the mean scores for small, medium, and large municipalities.\n",
    "small_mean = small_mun.mean(axis=None, skipna=None, level=None, numeric_only=None)"
   ]
  },
  {
   "cell_type": "code",
   "execution_count": 204,
   "metadata": {},
   "outputs": [
    {
     "name": "stdout",
     "output_type": "stream",
     "text": [
      "resources_waste    50.683172\n",
      "dtype: float64\n"
     ]
    }
   ],
   "source": [
    "print(small_mean)"
   ]
  },
  {
   "cell_type": "code",
   "execution_count": 205,
   "metadata": {},
   "outputs": [
    {
     "name": "stdout",
     "output_type": "stream",
     "text": [
      "resources_waste    48.70625\n",
      "dtype: float64\n"
     ]
    }
   ],
   "source": [
    "medium_mean = medium_mun.mean(axis=None, skipna=None, level=None, numeric_only=None)\n",
    "print(medium_mean)"
   ]
  },
  {
   "cell_type": "code",
   "execution_count": 206,
   "metadata": {},
   "outputs": [
    {
     "name": "stdout",
     "output_type": "stream",
     "text": [
      "resources_waste    45.03871\n",
      "dtype: float64\n"
     ]
    }
   ],
   "source": [
    "large_mean = large_mun.mean(axis=None, skipna=None, level=None, numeric_only=None)\n",
    "print(large_mean)"
   ]
  },
  {
   "cell_type": "code",
   "execution_count": 207,
   "metadata": {
    "collapsed": true
   },
   "outputs": [],
   "source": [
    "#Creating a dictionary of the three means and plotting them as a histogram.\n",
    "d = {\"small\":50.677542, \"medium\":48.70625, \"large\":45.03871}"
   ]
  },
  {
   "cell_type": "code",
   "execution_count": 208,
   "metadata": {
    "collapsed": true
   },
   "outputs": [],
   "source": [
    "import matplotlib.pyplot as plt"
   ]
  },
  {
   "cell_type": "code",
   "execution_count": 209,
   "metadata": {},
   "outputs": [
    {
     "data": {
      "image/png": "[encoded data removed]",
      "text/plain": [
       "<matplotlib.figure.Figure at 0x52ec68f0b8>"
      ]
     },
     "metadata": {},
     "output_type": "display_data"
    }
   ],
   "source": [
    "\n",
    "jet = plt.get_cmap('jet')\n",
    "N = len(d)\n",
    "plt.bar(range(N), d.values(), align='center', color=jet(np.linspace(0.5, .8, N)))\n",
    "plt.xticks(range(N), d.keys(), rotation=25)\n",
    "plt.ylabel('Resources and Waste Score')\n",
    "plt.xlabel('Municipality Size')\n",
    "plt.suptitle('Average Score by Municipality Size')\n",
    "plt.ylim(ymin=40)\n",
    "plt.show()"
   ]
  },
  {
   "cell_type": "markdown",
   "metadata": {},
   "source": [
    "We can see from the graph that the average score for small towns was the highest, and the average score for large towns was the lowest. We can conduct a kruskal wallis test to check if the differences between the median scores for small, medium, and large towns are statistically significant."
   ]
  },
  {
   "cell_type": "code",
   "execution_count": 210,
   "metadata": {},
   "outputs": [
    {
     "data": {
      "text/plain": [
       "42.5"
      ]
     },
     "execution_count": 210,
     "metadata": {},
     "output_type": "execute_result"
    }
   ],
   "source": [
    "#Calculating the median scores for each size and conducting the kruskal wallis test\n",
    "large_mun['resources_waste'].median()"
   ]
  },
  {
   "cell_type": "code",
   "execution_count": 211,
   "metadata": {},
   "outputs": [
    {
     "data": {
      "text/plain": [
       "48.2"
      ]
     },
     "execution_count": 211,
     "metadata": {},
     "output_type": "execute_result"
    }
   ],
   "source": [
    "medium_mun['resources_waste'].median()"
   ]
  },
  {
   "cell_type": "code",
   "execution_count": 212,
   "metadata": {},
   "outputs": [
    {
     "data": {
      "text/plain": [
       "50.9"
      ]
     },
     "execution_count": 212,
     "metadata": {},
     "output_type": "execute_result"
    }
   ],
   "source": [
    "small_mun['resources_waste'].median()"
   ]
  },
  {
   "cell_type": "code",
   "execution_count": 219,
   "metadata": {},
   "outputs": [
    {
     "name": "stdout",
     "output_type": "stream",
     "text": [
      "H-statistic: 10.2514794022\n",
      "P-Value: 0.00594182055919\n",
      "Reject NULL hypothesis - Significant differences exist between resources and waste scores for small, medium and large municipalities.\n"
     ]
    }
   ],
   "source": [
    "H, pval = stats.kruskal(small_mun['resources_waste'], medium_mun['resources_waste'], large_mun['resources_waste'])\n",
    "\n",
    "\n",
    "print(\"H-statistic:\", H)\n",
    "print(\"P-Value:\", pval)\n",
    "\n",
    "if pval < 0.05:\n",
    "    print(\"Reject NULL hypothesis - Significant differences exist between resources and waste scores for small, medium and large municipalities.\")\n",
    "if pval > 0.05:\n",
    "    print(\"Accept NULL hypothesis - No significant difference between resources and waste scores for small, medium and large municipalities.\")"
   ]
  },
  {
   "cell_type": "code",
   "execution_count": 119,
   "metadata": {},
   "outputs": [
    {
     "data": {
      "text/html": [
       "<div>\n",
       "<style>\n",
       "    .dataframe thead tr:only-child th {\n",
       "        text-align: right;\n",
       "    }\n",
       "\n",
       "    .dataframe thead th {\n",
       "        text-align: left;\n",
       "    }\n",
       "\n",
       "    .dataframe tbody tr th {\n",
       "        vertical-align: top;\n",
       "    }\n",
       "</style>\n",
       "<table border=\"1\" class=\"dataframe\">\n",
       "  <thead>\n",
       "    <tr style=\"text-align: right;\">\n",
       "      <th></th>\n",
       "      <th>mean</th>\n",
       "    </tr>\n",
       "    <tr>\n",
       "      <th>province_duplicate</th>\n",
       "      <th></th>\n",
       "    </tr>\n",
       "  </thead>\n",
       "  <tbody>\n",
       "    <tr>\n",
       "      <th>Drenthe</th>\n",
       "      <td>50.316667</td>\n",
       "    </tr>\n",
       "    <tr>\n",
       "      <th>Flevoland</th>\n",
       "      <td>43.616667</td>\n",
       "    </tr>\n",
       "    <tr>\n",
       "      <th>Friesland</th>\n",
       "      <td>47.629167</td>\n",
       "    </tr>\n",
       "    <tr>\n",
       "      <th>Gelderland</th>\n",
       "      <td>57.698148</td>\n",
       "    </tr>\n",
       "    <tr>\n",
       "      <th>Groningen</th>\n",
       "      <td>51.890476</td>\n",
       "    </tr>\n",
       "    <tr>\n",
       "      <th>Limburg</th>\n",
       "      <td>57.963636</td>\n",
       "    </tr>\n",
       "    <tr>\n",
       "      <th>Noord-Brabant</th>\n",
       "      <td>55.296875</td>\n",
       "    </tr>\n",
       "    <tr>\n",
       "      <th>Noord-Holland</th>\n",
       "      <td>41.868750</td>\n",
       "    </tr>\n",
       "    <tr>\n",
       "      <th>Overijssel</th>\n",
       "      <td>56.212000</td>\n",
       "    </tr>\n",
       "    <tr>\n",
       "      <th>Utrecht</th>\n",
       "      <td>46.176923</td>\n",
       "    </tr>\n",
       "    <tr>\n",
       "      <th>Zeeland</th>\n",
       "      <td>42.584615</td>\n",
       "    </tr>\n",
       "    <tr>\n",
       "      <th>Zuid-Holland</th>\n",
       "      <td>40.951667</td>\n",
       "    </tr>\n",
       "  </tbody>\n",
       "</table>\n",
       "</div>"
      ],
      "text/plain": [
       "                         mean\n",
       "province_duplicate           \n",
       "Drenthe             50.316667\n",
       "Flevoland           43.616667\n",
       "Friesland           47.629167\n",
       "Gelderland          57.698148\n",
       "Groningen           51.890476\n",
       "Limburg             57.963636\n",
       "Noord-Brabant       55.296875\n",
       "Noord-Holland       41.868750\n",
       "Overijssel          56.212000\n",
       "Utrecht             46.176923\n",
       "Zeeland             42.584615\n",
       "Zuid-Holland        40.951667"
      ]
     },
     "execution_count": 119,
     "metadata": {},
     "output_type": "execute_result"
    }
   ],
   "source": [
    "df[\"resources_waste\"].groupby(df[\"province_duplicate\"]).agg([\"mean\"])"
   ]
  },
  {
   "cell_type": "code",
   "execution_count": 167,
   "metadata": {},
   "outputs": [
    {
     "data": {
      "image/png": "[encoded data removed]",
      "text/plain": [
       "<matplotlib.figure.Figure at 0x52ec6ae198>"
      ]
     },
     "metadata": {},
     "output_type": "display_data"
    }
   ],
   "source": [
    "#Grouping the data by province and then calculating and graphing the means to see which provinces perform the best and worst.\n",
    "df[\"resources_waste\"].groupby(df[\"province_duplicate\"]).agg([\"mean\"]).plot(kind = 'bar', title='Mean Score by Province')\n",
    "\n",
    "plt.show()                                                                         "
   ]
  },
  {
   "cell_type": "markdown",
   "metadata": {},
   "source": [
    "We can see from the graph that Limburg and Gelderland perform the best, closely followed by Overijssel and Noord-Brabant. The two worst-performing provinces are Noord-Holland and Zuid-Holland. Next we import data from twitter:"
   ]
  },
  {
   "cell_type": "code",
   "execution_count": 88,
   "metadata": {
    "collapsed": true
   },
   "outputs": [],
   "source": [
    "import numpy as np\n",
    "import pandas as pd \n",
    "import plotly.plotly as py\n",
    "import plotly.tools as tls"
   ]
  },
  {
   "cell_type": "code",
   "execution_count": 90,
   "metadata": {
    "collapsed": true
   },
   "outputs": [],
   "source": [
    "import json"
   ]
  },
  {
   "cell_type": "code",
   "execution_count": 94,
   "metadata": {
    "collapsed": true
   },
   "outputs": [],
   "source": [
    "import twitter"
   ]
  },
  {
   "cell_type": "code",
   "execution_count": 95,
   "metadata": {},
   "outputs": [
    {
     "name": "stdout",
     "output_type": "stream",
     "text": [
      "<twitter.api.Twitter object at 0x00000052EAD45F28>\n"
     ]
    }
   ],
   "source": [
    "#Entering authentication codes for the twitter api in order to access Twitter\n",
    "CONSUMER_KEY = ''\n",
    "CONSUMER_SECRET =''\n",
    "OAUTH_TOKEN = ''\n",
    "OAUTH_TOKEN_SECRET = ''\n",
    "\n",
    "auth = twitter.oauth.OAuth(OAUTH_TOKEN, OAUTH_TOKEN_SECRET,\n",
    "                           CONSUMER_KEY, CONSUMER_SECRET)\n",
    "\n",
    "twitter_api = twitter.Twitter(auth=auth)\n",
    "\n",
    "# Nothing to see by displaying twitter_api except that it's now a\n",
    "# defined variable\n",
    "\n",
    "print (twitter_api)"
   ]
  },
  {
   "cell_type": "code",
   "execution_count": 96,
   "metadata": {},
   "outputs": [
    {
     "name": "stdout",
     "output_type": "stream",
     "text": [
      "[{'trends': [{'name': '#jinek', 'url': 'http://twitter.com/search?q=%23jinek', 'promoted_content': None, 'query': '%23jinek', 'tweet_volume': None}, {'name': '#mrfrankvisser', 'url': 'http://twitter.com/search?q=%23mrfrankvisser', 'promoted_content': None, 'query': '%23mrfrankvisser', 'tweet_volume': None}, {'name': '#debalie', 'url': 'http://twitter.com/search?q=%23debalie', 'promoted_content': None, 'query': '%23debalie', 'tweet_volume': None}, {'name': '#rtllatenight', 'url': 'http://twitter.com/search?q=%23rtllatenight', 'promoted_content': None, 'query': '%23rtllatenight', 'tweet_volume': None}, {'name': '#radar', 'url': 'http://twitter.com/search?q=%23radar', 'promoted_content': None, 'query': '%23radar', 'tweet_volume': None}, {'name': 'Jong PSV', 'url': 'http://twitter.com/search?q=%22Jong+PSV%22', 'promoted_content': None, 'query': '%22Jong+PSV%22', 'tweet_volume': None}, {'name': 'Turken of Marokkanen', 'url': 'http://twitter.com/search?q=%22Turken+of+Marokkanen%22', 'promoted_content': None, 'query': '%22Turken+of+Marokkanen%22', 'tweet_volume': None}, {'name': 'GeenStijl', 'url': 'http://twitter.com/search?q=GeenStijl', 'promoted_content': None, 'query': 'GeenStijl', 'tweet_volume': None}, {'name': 'HELL NO', 'url': 'http://twitter.com/search?q=%22HELL+NO%22', 'promoted_content': None, 'query': '%22HELL+NO%22', 'tweet_volume': None}, {'name': 'Manchester City', 'url': 'http://twitter.com/search?q=%22Manchester+City%22', 'promoted_content': None, 'query': '%22Manchester+City%22', 'tweet_volume': 26594}, {'name': 'Van Aartsen', 'url': 'http://twitter.com/search?q=%22Van+Aartsen%22', 'promoted_content': None, 'query': '%22Van+Aartsen%22', 'tweet_volume': None}, {'name': 'Bruno Mars', 'url': 'http://twitter.com/search?q=%22Bruno+Mars%22', 'promoted_content': None, 'query': '%22Bruno+Mars%22', 'tweet_volume': 414970}, {'name': 'Arctic Monkeys', 'url': 'http://twitter.com/search?q=%22Arctic+Monkeys%22', 'promoted_content': None, 'query': '%22Arctic+Monkeys%22', 'tweet_volume': 47740}, {'name': 'Eminem', 'url': 'http://twitter.com/search?q=Eminem', 'promoted_content': None, 'query': 'Eminem', 'tweet_volume': 74980}, {'name': 'KV Mechelen', 'url': 'http://twitter.com/search?q=%22KV+Mechelen%22', 'promoted_content': None, 'query': '%22KV+Mechelen%22', 'tweet_volume': None}, {'name': 'Yantai', 'url': 'http://twitter.com/search?q=Yantai', 'promoted_content': None, 'query': 'Yantai', 'tweet_volume': None}, {'name': 'Nederland 2018', 'url': 'http://twitter.com/search?q=%22Nederland+2018%22', 'promoted_content': None, 'query': '%22Nederland+2018%22', 'tweet_volume': None}, {'name': 'Leo van der Zon', 'url': 'http://twitter.com/search?q=%22Leo+van+der+Zon%22', 'promoted_content': None, 'query': '%22Leo+van+der+Zon%22', 'tweet_volume': None}, {'name': 'Hillary Clinton', 'url': 'http://twitter.com/search?q=%22Hillary+Clinton%22', 'promoted_content': None, 'query': '%22Hillary+Clinton%22', 'tweet_volume': 262380}, {'name': 'Sloterdijk', 'url': 'http://twitter.com/search?q=Sloterdijk', 'promoted_content': None, 'query': 'Sloterdijk', 'tweet_volume': None}, {'name': 'Rabobank', 'url': 'http://twitter.com/search?q=Rabobank', 'promoted_content': None, 'query': 'Rabobank', 'tweet_volume': None}, {'name': 'Olympische Spelen', 'url': 'http://twitter.com/search?q=%22Olympische+Spelen%22', 'promoted_content': None, 'query': '%22Olympische+Spelen%22', 'tweet_volume': None}, {'name': '#helemaalheteinde', 'url': 'http://twitter.com/search?q=%23helemaalheteinde', 'promoted_content': None, 'query': '%23helemaalheteinde', 'tweet_volume': None}, {'name': '#WatVerdienJe', 'url': 'http://twitter.com/search?q=%23WatVerdienJe', 'promoted_content': None, 'query': '%23WatVerdienJe', 'tweet_volume': None}, {'name': '#donorwet', 'url': 'http://twitter.com/search?q=%23donorwet', 'promoted_content': None, 'query': '%23donorwet', 'tweet_volume': None}, {'name': '#spoorloos', 'url': 'http://twitter.com/search?q=%23spoorloos', 'promoted_content': None, 'query': '%23spoorloos', 'tweet_volume': None}, {'name': '#TheGoodDoctor', 'url': 'http://twitter.com/search?q=%23TheGoodDoctor', 'promoted_content': None, 'query': '%23TheGoodDoctor', 'tweet_volume': None}, {'name': '#deelfiets', 'url': 'http://twitter.com/search?q=%23deelfiets', 'promoted_content': None, 'query': '%23deelfiets', 'tweet_volume': None}, {'name': '#luizenmoeder', 'url': 'http://twitter.com/search?q=%23luizenmoeder', 'promoted_content': None, 'query': '%23luizenmoeder', 'tweet_volume': None}, {'name': '#GRAMMYs', 'url': 'http://twitter.com/search?q=%23GRAMMYs', 'promoted_content': None, 'query': '%23GRAMMYs', 'tweet_volume': 3828630}, {'name': '#utraja', 'url': 'http://twitter.com/search?q=%23utraja', 'promoted_content': None, 'query': '%23utraja', 'tweet_volume': None}, {'name': '#NLamb2018', 'url': 'http://twitter.com/search?q=%23NLamb2018', 'promoted_content': None, 'query': '%23NLamb2018', 'tweet_volume': None}, {'name': '#hartvanchina', 'url': 'http://twitter.com/search?q=%23hartvanchina', 'promoted_content': None, 'query': '%23hartvanchina', 'tweet_volume': None}, {'name': '#feyado', 'url': 'http://twitter.com/search?q=%23feyado', 'promoted_content': None, 'query': '%23feyado', 'tweet_volume': None}, {'name': '#middenhuur', 'url': 'http://twitter.com/search?q=%23middenhuur', 'promoted_content': None, 'query': '%23middenhuur', 'tweet_volume': None}, {'name': '#CLEUR', 'url': 'http://twitter.com/search?q=%23CLEUR', 'promoted_content': None, 'query': '%23CLEUR', 'tweet_volume': None}, {'name': '#DvdC', 'url': 'http://twitter.com/search?q=%23DvdC', 'promoted_content': None, 'query': '%23DvdC', 'tweet_volume': None}, {'name': '#wilaz', 'url': 'http://twitter.com/search?q=%23wilaz', 'promoted_content': None, 'query': '%23wilaz', 'tweet_volume': None}, {'name': '#ZondagMetLubach', 'url': 'http://twitter.com/search?q=%23ZondagMetLubach', 'promoted_content': None, 'query': '%23ZondagMetLubach', 'tweet_volume': None}, {'name': '#EZKEnergyAward', 'url': 'http://twitter.com/search?q=%23EZKEnergyAward', 'promoted_content': None, 'query': '%23EZKEnergyAward', 'tweet_volume': None}, {'name': '#RODEXC', 'url': 'http://twitter.com/search?q=%23RODEXC', 'promoted_content': None, 'query': '%23RODEXC', 'tweet_volume': None}, {'name': '#vvtp', 'url': 'http://twitter.com/search?q=%23vvtp', 'promoted_content': None, 'query': '%23vvtp', 'tweet_volume': None}, {'name': '#twecam', 'url': 'http://twitter.com/search?q=%23twecam', 'promoted_content': None, 'query': '%23twecam', 'tweet_volume': None}, {'name': '#WeR1', 'url': 'http://twitter.com/search?q=%23WeR1', 'promoted_content': None, 'query': '%23WeR1', 'tweet_volume': None}, {'name': '#maandag', 'url': 'http://twitter.com/search?q=%23maandag', 'promoted_content': None, 'query': '%23maandag', 'tweet_volume': None}, {'name': '#Buitenhof', 'url': 'http://twitter.com/search?q=%23Buitenhof', 'promoted_content': None, 'query': '%23Buitenhof', 'tweet_volume': None}, {'name': '#acuutbeter', 'url': 'http://twitter.com/search?q=%23acuutbeter', 'promoted_content': None, 'query': '%23acuutbeter', 'tweet_volume': None}, {'name': '#mekoe', 'url': 'http://twitter.com/search?q=%23mekoe', 'promoted_content': None, 'query': '%23mekoe', 'tweet_volume': None}, {'name': '#MondayMotivation', 'url': 'http://twitter.com/search?q=%23MondayMotivation', 'promoted_content': None, 'query': '%23MondayMotivation', 'tweet_volume': 158568}, {'name': '#Strava', 'url': 'http://twitter.com/search?q=%23Strava', 'promoted_content': None, 'query': '%23Strava', 'tweet_volume': None}], 'as_of': '2018-01-29T23:19:45Z', 'created_at': '2018-01-29T23:12:24Z', 'locations': [{'name': 'Netherlands', 'woeid': 23424909}]}]\n"
     ]
    }
   ],
   "source": [
    "#Searching for trending topics in the Netherlands\n",
    "NL_WOE_ID = (23424909)\n",
    "\n",
    "nl_trends = twitter_api.trends.place(_id=NL_WOE_ID)\n",
    "\n",
    "print (nl_trends)"
   ]
  },
  {
   "cell_type": "code",
   "execution_count": 97,
   "metadata": {
    "collapsed": true
   },
   "outputs": [],
   "source": [
    "from urllib.parse import unquote\n"
   ]
  },
  {
   "cell_type": "code",
   "execution_count": 98,
   "metadata": {},
   "outputs": [
    {
     "name": "stdout",
     "output_type": "stream",
     "text": [
      "[\n",
      " {\n",
      "  \"as_of\": \"2018-01-29T23:19:45Z\",\n",
      "  \"created_at\": \"2018-01-29T23:12:24Z\",\n",
      "  \"locations\": [\n",
      "   {\n",
      "    \"name\": \"Netherlands\",\n",
      "    \"woeid\": 23424909\n",
      "   }\n",
      "  ],\n",
      "  \"trends\": [\n",
      "   {\n",
      "    \"name\": \"#jinek\",\n",
      "    \"promoted_content\": null,\n",
      "    \"query\": \"%23jinek\",\n",
      "    \"tweet_volume\": null,\n",
      "    \"url\": \"http://twitter.com/search?q=%23jinek\"\n",
      "   },\n",
      "   {\n",
      "    \"name\": \"#mrfrankvisser\",\n",
      "    \"promoted_content\": null,\n",
      "    \"query\": \"%23mrfrankvisser\",\n",
      "    \"tweet_volume\": null,\n",
      "    \"url\": \"http://twitter.com/search?q=%23mrfrankvisser\"\n",
      "   },\n",
      "   {\n",
      "    \"name\": \"#debalie\",\n",
      "    \"promoted_content\": null,\n",
      "    \"query\": \"%23debalie\",\n",
      "    \"tweet_volume\": null,\n",
      "    \"url\": \"http://twitter.com/search?q=%23debalie\"\n",
      "   },\n",
      "   {\n",
      "    \"name\": \"#rtllatenight\",\n",
      "    \"promoted_content\": null,\n",
      "    \"query\": \"%23rtllatenight\",\n",
      "    \"tweet_volume\": null,\n",
      "    \"url\": \"http://twitter.com/search?q=%23rtllatenight\"\n",
      "   },\n",
      "   {\n",
      "    \"name\": \"#radar\",\n",
      "    \"promoted_content\": null,\n",
      "    \"query\": \"%23radar\",\n",
      "    \"tweet_volume\": null,\n",
      "    \"url\": \"http://twitter.com/search?q=%23radar\"\n",
      "   },\n",
      "   {\n",
      "    \"name\": \"Jong PSV\",\n",
      "    \"promoted_content\": null,\n",
      "    \"query\": \"%22Jong+PSV%22\",\n",
      "    \"tweet_volume\": null,\n",
      "    \"url\": \"http://twitter.com/search?q=%22Jong+PSV%22\"\n",
      "   },\n",
      "   {\n",
      "    \"name\": \"Turken of Marokkanen\",\n",
      "    \"promoted_content\": null,\n",
      "    \"query\": \"%22Turken+of+Marokkanen%22\",\n",
      "    \"tweet_volume\": null,\n",
      "    \"url\": \"http://twitter.com/search?q=%22Turken+of+Marokkanen%22\"\n",
      "   },\n",
      "   {\n",
      "    \"name\": \"GeenStijl\",\n",
      "    \"promoted_content\": null,\n",
      "    \"query\": \"GeenStijl\",\n",
      "    \"tweet_volume\": null,\n",
      "    \"url\": \"http://twitter.com/search?q=GeenStijl\"\n",
      "   },\n",
      "   {\n",
      "    \"name\": \"HELL NO\",\n",
      "    \"promoted_content\": null,\n",
      "    \"query\": \"%22HELL+NO%22\",\n",
      "    \"tweet_volume\": null,\n",
      "    \"url\": \"http://twitter.com/search?q=%22HELL+NO%22\"\n",
      "   },\n",
      "   {\n",
      "    \"name\": \"Manchester City\",\n",
      "    \"promoted_content\": null,\n",
      "    \"query\": \"%22Manchester+City%22\",\n",
      "    \"tweet_volume\": 26594,\n",
      "    \"url\": \"http://twitter.com/search?q=%22Manchester+City%22\"\n",
      "   },\n",
      "   {\n",
      "    \"name\": \"Van Aartsen\",\n",
      "    \"promoted_content\": null,\n",
      "    \"query\": \"%22Van+Aartsen%22\",\n",
      "    \"tweet_volume\": null,\n",
      "    \"url\": \"http://twitter.com/search?q=%22Van+Aartsen%22\"\n",
      "   },\n",
      "   {\n",
      "    \"name\": \"Bruno Mars\",\n",
      "    \"promoted_content\": null,\n",
      "    \"query\": \"%22Bruno+Mars%22\",\n",
      "    \"tweet_volume\": 414970,\n",
      "    \"url\": \"http://twitter.com/search?q=%22Bruno+Mars%22\"\n",
      "   },\n",
      "   {\n",
      "    \"name\": \"Arctic Monkeys\",\n",
      "    \"promoted_content\": null,\n",
      "    \"query\": \"%22Arctic+Monkeys%22\",\n",
      "    \"tweet_volume\": 47740,\n",
      "    \"url\": \"http://twitter.com/search?q=%22Arctic+Monkeys%22\"\n",
      "   },\n",
      "   {\n",
      "    \"name\": \"Eminem\",\n",
      "    \"promoted_content\": null,\n",
      "    \"query\": \"Eminem\",\n",
      "    \"tweet_volume\": 74980,\n",
      "    \"url\": \"http://twitter.com/search?q=Eminem\"\n",
      "   },\n",
      "   {\n",
      "    \"name\": \"KV Mechelen\",\n",
      "    \"promoted_content\": null,\n",
      "    \"query\": \"%22KV+Mechelen%22\",\n",
      "    \"tweet_volume\": null,\n",
      "    \"url\": \"http://twitter.com/search?q=%22KV+Mechelen%22\"\n",
      "   },\n",
      "   {\n",
      "    \"name\": \"Yantai\",\n",
      "    \"promoted_content\": null,\n",
      "    \"query\": \"Yantai\",\n",
      "    \"tweet_volume\": null,\n",
      "    \"url\": \"http://twitter.com/search?q=Yantai\"\n",
      "   },\n",
      "   {\n",
      "    \"name\": \"Nederland 2018\",\n",
      "    \"promoted_content\": null,\n",
      "    \"query\": \"%22Nederland+2018%22\",\n",
      "    \"tweet_volume\": null,\n",
      "    \"url\": \"http://twitter.com/search?q=%22Nederland+2018%22\"\n",
      "   },\n",
      "   {\n",
      "    \"name\": \"Leo van der Zon\",\n",
      "    \"promoted_content\": null,\n",
      "    \"query\": \"%22Leo+van+der+Zon%22\",\n",
      "    \"tweet_volume\": null,\n",
      "    \"url\": \"http://twitter.com/search?q=%22Leo+van+der+Zon%22\"\n",
      "   },\n",
      "   {\n",
      "    \"name\": \"Hillary Clinton\",\n",
      "    \"promoted_content\": null,\n",
      "    \"query\": \"%22Hillary+Clinton%22\",\n",
      "    \"tweet_volume\": 262380,\n",
      "    \"url\": \"http://twitter.com/search?q=%22Hillary+Clinton%22\"\n",
      "   },\n",
      "   {\n",
      "    \"name\": \"Sloterdijk\",\n",
      "    \"promoted_content\": null,\n",
      "    \"query\": \"Sloterdijk\",\n",
      "    \"tweet_volume\": null,\n",
      "    \"url\": \"http://twitter.com/search?q=Sloterdijk\"\n",
      "   },\n",
      "   {\n",
      "    \"name\": \"Rabobank\",\n",
      "    \"promoted_content\": null,\n",
      "    \"query\": \"Rabobank\",\n",
      "    \"tweet_volume\": null,\n",
      "    \"url\": \"http://twitter.com/search?q=Rabobank\"\n",
      "   },\n",
      "   {\n",
      "    \"name\": \"Olympische Spelen\",\n",
      "    \"promoted_content\": null,\n",
      "    \"query\": \"%22Olympische+Spelen%22\",\n",
      "    \"tweet_volume\": null,\n",
      "    \"url\": \"http://twitter.com/search?q=%22Olympische+Spelen%22\"\n",
      "   },\n",
      "   {\n",
      "    \"name\": \"#helemaalheteinde\",\n",
      "    \"promoted_content\": null,\n",
      "    \"query\": \"%23helemaalheteinde\",\n",
      "    \"tweet_volume\": null,\n",
      "    \"url\": \"http://twitter.com/search?q=%23helemaalheteinde\"\n",
      "   },\n",
      "   {\n",
      "    \"name\": \"#WatVerdienJe\",\n",
      "    \"promoted_content\": null,\n",
      "    \"query\": \"%23WatVerdienJe\",\n",
      "    \"tweet_volume\": null,\n",
      "    \"url\": \"http://twitter.com/search?q=%23WatVerdienJe\"\n",
      "   },\n",
      "   {\n",
      "    \"name\": \"#donorwet\",\n",
      "    \"promoted_content\": null,\n",
      "    \"query\": \"%23donorwet\",\n",
      "    \"tweet_volume\": null,\n",
      "    \"url\": \"http://twitter.com/search?q=%23donorwet\"\n",
      "   },\n",
      "   {\n",
      "    \"name\": \"#spoorloos\",\n",
      "    \"promoted_content\": null,\n",
      "    \"query\": \"%23spoorloos\",\n",
      "    \"tweet_volume\": null,\n",
      "    \"url\": \"http://twitter.com/search?q=%23spoorloos\"\n",
      "   },\n",
      "   {\n",
      "    \"name\": \"#TheGoodDoctor\",\n",
      "    \"promoted_content\": null,\n",
      "    \"query\": \"%23TheGoodDoctor\",\n",
      "    \"tweet_volume\": null,\n",
      "    \"url\": \"http://twitter.com/search?q=%23TheGoodDoctor\"\n",
      "   },\n",
      "   {\n",
      "    \"name\": \"#deelfiets\",\n",
      "    \"promoted_content\": null,\n",
      "    \"query\": \"%23deelfiets\",\n",
      "    \"tweet_volume\": null,\n",
      "    \"url\": \"http://twitter.com/search?q=%23deelfiets\"\n",
      "   },\n",
      "   {\n",
      "    \"name\": \"#luizenmoeder\",\n",
      "    \"promoted_content\": null,\n",
      "    \"query\": \"%23luizenmoeder\",\n",
      "    \"tweet_volume\": null,\n",
      "    \"url\": \"http://twitter.com/search?q=%23luizenmoeder\"\n",
      "   },\n",
      "   {\n",
      "    \"name\": \"#GRAMMYs\",\n",
      "    \"promoted_content\": null,\n",
      "    \"query\": \"%23GRAMMYs\",\n",
      "    \"tweet_volume\": 3828630,\n",
      "    \"url\": \"http://twitter.com/search?q=%23GRAMMYs\"\n",
      "   },\n",
      "   {\n",
      "    \"name\": \"#utraja\",\n",
      "    \"promoted_content\": null,\n",
      "    \"query\": \"%23utraja\",\n",
      "    \"tweet_volume\": null,\n",
      "    \"url\": \"http://twitter.com/search?q=%23utraja\"\n",
      "   },\n",
      "   {\n",
      "    \"name\": \"#NLamb2018\",\n",
      "    \"promoted_content\": null,\n",
      "    \"query\": \"%23NLamb2018\",\n",
      "    \"tweet_volume\": null,\n",
      "    \"url\": \"http://twitter.com/search?q=%23NLamb2018\"\n",
      "   },\n",
      "   {\n",
      "    \"name\": \"#hartvanchina\",\n",
      "    \"promoted_content\": null,\n",
      "    \"query\": \"%23hartvanchina\",\n",
      "    \"tweet_volume\": null,\n",
      "    \"url\": \"http://twitter.com/search?q=%23hartvanchina\"\n",
      "   },\n",
      "   {\n",
      "    \"name\": \"#feyado\",\n",
      "    \"promoted_content\": null,\n",
      "    \"query\": \"%23feyado\",\n",
      "    \"tweet_volume\": null,\n",
      "    \"url\": \"http://twitter.com/search?q=%23feyado\"\n",
      "   },\n",
      "   {\n",
      "    \"name\": \"#middenhuur\",\n",
      "    \"promoted_content\": null,\n",
      "    \"query\": \"%23middenhuur\",\n",
      "    \"tweet_volume\": null,\n",
      "    \"url\": \"http://twitter.com/search?q=%23middenhuur\"\n",
      "   },\n",
      "   {\n",
      "    \"name\": \"#CLEUR\",\n",
      "    \"promoted_content\": null,\n",
      "    \"query\": \"%23CLEUR\",\n",
      "    \"tweet_volume\": null,\n",
      "    \"url\": \"http://twitter.com/search?q=%23CLEUR\"\n",
      "   },\n",
      "   {\n",
      "    \"name\": \"#DvdC\",\n",
      "    \"promoted_content\": null,\n",
      "    \"query\": \"%23DvdC\",\n",
      "    \"tweet_volume\": null,\n",
      "    \"url\": \"http://twitter.com/search?q=%23DvdC\"\n",
      "   },\n",
      "   {\n",
      "    \"name\": \"#wilaz\",\n",
      "    \"promoted_content\": null,\n",
      "    \"query\": \"%23wilaz\",\n",
      "    \"tweet_volume\": null,\n",
      "    \"url\": \"http://twitter.com/search?q=%23wilaz\"\n",
      "   },\n",
      "   {\n",
      "    \"name\": \"#ZondagMetLubach\",\n",
      "    \"promoted_content\": null,\n",
      "    \"query\": \"%23ZondagMetLubach\",\n",
      "    \"tweet_volume\": null,\n",
      "    \"url\": \"http://twitter.com/search?q=%23ZondagMetLubach\"\n",
      "   },\n",
      "   {\n",
      "    \"name\": \"#EZKEnergyAward\",\n",
      "    \"promoted_content\": null,\n",
      "    \"query\": \"%23EZKEnergyAward\",\n",
      "    \"tweet_volume\": null,\n",
      "    \"url\": \"http://twitter.com/search?q=%23EZKEnergyAward\"\n",
      "   },\n",
      "   {\n",
      "    \"name\": \"#RODEXC\",\n",
      "    \"promoted_content\": null,\n",
      "    \"query\": \"%23RODEXC\",\n",
      "    \"tweet_volume\": null,\n",
      "    \"url\": \"http://twitter.com/search?q=%23RODEXC\"\n",
      "   },\n",
      "   {\n",
      "    \"name\": \"#vvtp\",\n",
      "    \"promoted_content\": null,\n",
      "    \"query\": \"%23vvtp\",\n",
      "    \"tweet_volume\": null,\n",
      "    \"url\": \"http://twitter.com/search?q=%23vvtp\"\n",
      "   },\n",
      "   {\n",
      "    \"name\": \"#twecam\",\n",
      "    \"promoted_content\": null,\n",
      "    \"query\": \"%23twecam\",\n",
      "    \"tweet_volume\": null,\n",
      "    \"url\": \"http://twitter.com/search?q=%23twecam\"\n",
      "   },\n",
      "   {\n",
      "    \"name\": \"#WeR1\",\n",
      "    \"promoted_content\": null,\n",
      "    \"query\": \"%23WeR1\",\n",
      "    \"tweet_volume\": null,\n",
      "    \"url\": \"http://twitter.com/search?q=%23WeR1\"\n",
      "   },\n",
      "   {\n",
      "    \"name\": \"#maandag\",\n",
      "    \"promoted_content\": null,\n",
      "    \"query\": \"%23maandag\",\n",
      "    \"tweet_volume\": null,\n",
      "    \"url\": \"http://twitter.com/search?q=%23maandag\"\n",
      "   },\n",
      "   {\n",
      "    \"name\": \"#Buitenhof\",\n",
      "    \"promoted_content\": null,\n",
      "    \"query\": \"%23Buitenhof\",\n",
      "    \"tweet_volume\": null,\n",
      "    \"url\": \"http://twitter.com/search?q=%23Buitenhof\"\n",
      "   },\n",
      "   {\n",
      "    \"name\": \"#acuutbeter\",\n",
      "    \"promoted_content\": null,\n",
      "    \"query\": \"%23acuutbeter\",\n",
      "    \"tweet_volume\": null,\n",
      "    \"url\": \"http://twitter.com/search?q=%23acuutbeter\"\n",
      "   },\n",
      "   {\n",
      "    \"name\": \"#mekoe\",\n",
      "    \"promoted_content\": null,\n",
      "    \"query\": \"%23mekoe\",\n",
      "    \"tweet_volume\": null,\n",
      "    \"url\": \"http://twitter.com/search?q=%23mekoe\"\n",
      "   },\n",
      "   {\n",
      "    \"name\": \"#MondayMotivation\",\n",
      "    \"promoted_content\": null,\n",
      "    \"query\": \"%23MondayMotivation\",\n",
      "    \"tweet_volume\": 158568,\n",
      "    \"url\": \"http://twitter.com/search?q=%23MondayMotivation\"\n",
      "   },\n",
      "   {\n",
      "    \"name\": \"#Strava\",\n",
      "    \"promoted_content\": null,\n",
      "    \"query\": \"%23Strava\",\n",
      "    \"tweet_volume\": null,\n",
      "    \"url\": \"http://twitter.com/search?q=%23Strava\"\n",
      "   }\n",
      "  ]\n",
      " }\n",
      "]\n"
     ]
    }
   ],
   "source": [
    "import json\n",
    "\n",
    "#Printing a more readable version of the lists of trends and we sort each trend by using the option True in sort_keys\n",
    "\n",
    "\n",
    "print (json.dumps(nl_trends, indent=1, sort_keys=True))"
   ]
  },
  {
   "cell_type": "code",
   "execution_count": 99,
   "metadata": {},
   "outputs": [
    {
     "name": "stdout",
     "output_type": "stream",
     "text": [
      "Length of statuses\n",
      "Length of statuses\n",
      "Length of statuses\n",
      "Length of statuses\n",
      "Length of statuses\n",
      "{\n",
      " \"created_at\": \"Mon Jan 29 22:45:56 +0000 2018\",\n",
      " \"id\": 958108978969567232,\n",
      " \"id_str\": \"958108978969567232\",\n",
      " \"text\": \"RT @TkmstBehendig: Hogeschoolstudenten opgelet! Ben je ge\\u00efnteresseerd in #duurzaamheid, meld je dan voor 5 februari aan voor de afstudeerex\\u2026\",\n",
      " \"truncated\": false,\n",
      " \"entities\": {\n",
      "  \"hashtags\": [\n",
      "   {\n",
      "    \"text\": \"duurzaamheid\",\n",
      "    \"indices\": [\n",
      "     73,\n",
      "     86\n",
      "    ]\n",
      "   }\n",
      "  ],\n",
      "  \"symbols\": [],\n",
      "  \"user_mentions\": [\n",
      "   {\n",
      "    \"screen_name\": \"TkmstBehendig\",\n",
      "    \"name\": \"ToekomstBehendig.nl\",\n",
      "    \"id\": 748460088495607808,\n",
      "    \"id_str\": \"748460088495607808\",\n",
      "    \"indices\": [\n",
      "     3,\n",
      "     17\n",
      "    ]\n",
      "   }\n",
      "  ],\n",
      "  \"urls\": []\n",
      " },\n",
      " \"metadata\": {\n",
      "  \"iso_language_code\": \"nl\",\n",
      "  \"result_type\": \"recent\"\n",
      " },\n",
      " \"source\": \"<a href=\\\"http://twitter.com/download/iphone\\\" rel=\\\"nofollow\\\">Twitter for iPhone</a>\",\n",
      " \"in_reply_to_status_id\": null,\n",
      " \"in_reply_to_status_id_str\": null,\n",
      " \"in_reply_to_user_id\": null,\n",
      " \"in_reply_to_user_id_str\": null,\n",
      " \"in_reply_to_screen_name\": null,\n",
      " \"user\": {\n",
      "  \"id\": 34236869,\n",
      "  \"id_str\": \"34236869\",\n",
      "  \"name\": \"Macha Roesink\",\n",
      "  \"screen_name\": \"macharoesink\",\n",
      "  \"location\": \"The Netherlands\",\n",
      "  \"description\": \"art historian and curator involved in art, architecture, public space, education, nature, soil and ecology in a nonlinear interdisciplinary way\",\n",
      "  \"url\": null,\n",
      "  \"entities\": {\n",
      "   \"description\": {\n",
      "    \"urls\": []\n",
      "   }\n",
      "  },\n",
      "  \"protected\": false,\n",
      "  \"followers_count\": 3801,\n",
      "  \"friends_count\": 5000,\n",
      "  \"listed_count\": 518,\n",
      "  \"created_at\": \"Wed Apr 22 10:28:31 +0000 2009\",\n",
      "  \"favourites_count\": 61767,\n",
      "  \"utc_offset\": 3600,\n",
      "  \"time_zone\": \"Amsterdam\",\n",
      "  \"geo_enabled\": true,\n",
      "  \"verified\": false,\n",
      "  \"statuses_count\": 113871,\n",
      "  \"lang\": \"en\",\n",
      "  \"contributors_enabled\": false,\n",
      "  \"is_translator\": false,\n",
      "  \"is_translation_enabled\": false,\n",
      "  \"profile_background_color\": \"4F6C6E\",\n",
      "  \"profile_background_image_url\": \"http://abs.twimg.com/images/themes/theme9/bg.gif\",\n",
      "  \"profile_background_image_url_https\": \"https://abs.twimg.com/images/themes/theme9/bg.gif\",\n",
      "  \"profile_background_tile\": false,\n",
      "  \"profile_image_url\": \"http://pbs.twimg.com/profile_images/484139881/n708749107_2547_normal.jpg\",\n",
      "  \"profile_image_url_https\": \"https://pbs.twimg.com/profile_images/484139881/n708749107_2547_normal.jpg\",\n",
      "  \"profile_link_color\": \"0084B4\",\n",
      "  \"profile_sidebar_border_color\": \"FFFFFF\",\n",
      "  \"profile_sidebar_fill_color\": \"DDFFCC\",\n",
      "  \"profile_text_color\": \"333333\",\n",
      "  \"profile_use_background_image\": false,\n",
      "  \"has_extended_profile\": false,\n",
      "  \"default_profile\": false,\n",
      "  \"default_profile_image\": false,\n",
      "  \"following\": false,\n",
      "  \"follow_request_sent\": false,\n",
      "  \"notifications\": false,\n",
      "  \"translator_type\": \"none\"\n",
      " },\n",
      " \"geo\": null,\n",
      " \"coordinates\": null,\n",
      " \"place\": null,\n",
      " \"contributors\": null,\n",
      " \"retweeted_status\": {\n",
      "  \"created_at\": \"Mon Jan 29 10:20:27 +0000 2018\",\n",
      "  \"id\": 957921375783739392,\n",
      "  \"id_str\": \"957921375783739392\",\n",
      "  \"text\": \"Hogeschoolstudenten opgelet! Ben je ge\\u00efnteresseerd in #duurzaamheid, meld je dan voor 5 februari aan voor de afstud\\u2026 https://t.co/5a3CFZ83ku\",\n",
      "  \"truncated\": true,\n",
      "  \"entities\": {\n",
      "   \"hashtags\": [\n",
      "    {\n",
      "     \"text\": \"duurzaamheid\",\n",
      "     \"indices\": [\n",
      "      54,\n",
      "      67\n",
      "     ]\n",
      "    }\n",
      "   ],\n",
      "   \"symbols\": [],\n",
      "   \"user_mentions\": [],\n",
      "   \"urls\": [\n",
      "    {\n",
      "     \"url\": \"https://t.co/5a3CFZ83ku\",\n",
      "     \"expanded_url\": \"https://twitter.com/i/web/status/957921375783739392\",\n",
      "     \"display_url\": \"twitter.com/i/web/status/9\\u2026\",\n",
      "     \"indices\": [\n",
      "      117,\n",
      "      140\n",
      "     ]\n",
      "    }\n",
      "   ]\n",
      "  },\n",
      "  \"metadata\": {\n",
      "   \"iso_language_code\": \"nl\",\n",
      "   \"result_type\": \"recent\"\n",
      "  },\n",
      "  \"source\": \"<a href=\\\"http://twitter.com\\\" rel=\\\"nofollow\\\">Twitter Web Client</a>\",\n",
      "  \"in_reply_to_status_id\": null,\n",
      "  \"in_reply_to_status_id_str\": null,\n",
      "  \"in_reply_to_user_id\": null,\n",
      "  \"in_reply_to_user_id_str\": null,\n",
      "  \"in_reply_to_screen_name\": null,\n",
      "  \"user\": {\n",
      "   \"id\": 748460088495607808,\n",
      "   \"id_str\": \"748460088495607808\",\n",
      "   \"name\": \"ToekomstBehendig.nl\",\n",
      "   \"screen_name\": \"TkmstBehendig\",\n",
      "   \"location\": \"Utrecht, Nederland\",\n",
      "   \"description\": \"ToekomstBehendig.nl is de keuzegids voor duurzaam onderwijs, van basisschool tot universiteit. De redactie wordt verzorgd door @groenegeneratie.\",\n",
      "   \"url\": \"https://t.co/BUGzdv0Je4\",\n",
      "   \"entities\": {\n",
      "    \"url\": {\n",
      "     \"urls\": [\n",
      "      {\n",
      "       \"url\": \"https://t.co/BUGzdv0Je4\",\n",
      "       \"expanded_url\": \"http://www.toekomstbehendig.nl\",\n",
      "       \"display_url\": \"toekomstbehendig.nl\",\n",
      "       \"indices\": [\n",
      "        0,\n",
      "        23\n",
      "       ]\n",
      "      }\n",
      "     ]\n",
      "    },\n",
      "    \"description\": {\n",
      "     \"urls\": []\n",
      "    }\n",
      "   },\n",
      "   \"protected\": false,\n",
      "   \"followers_count\": 108,\n",
      "   \"friends_count\": 307,\n",
      "   \"listed_count\": 0,\n",
      "   \"created_at\": \"Thu Jun 30 10:16:05 +0000 2016\",\n",
      "   \"favourites_count\": 12,\n",
      "   \"utc_offset\": -28800,\n",
      "   \"time_zone\": \"Pacific Time (US & Canada)\",\n",
      "   \"geo_enabled\": false,\n",
      "   \"verified\": false,\n",
      "   \"statuses_count\": 66,\n",
      "   \"lang\": \"nl\",\n",
      "   \"contributors_enabled\": false,\n",
      "   \"is_translator\": false,\n",
      "   \"is_translation_enabled\": false,\n",
      "   \"profile_background_color\": \"000000\",\n",
      "   \"profile_background_image_url\": \"http://abs.twimg.com/images/themes/theme1/bg.png\",\n",
      "   \"profile_background_image_url_https\": \"https://abs.twimg.com/images/themes/theme1/bg.png\",\n",
      "   \"profile_background_tile\": false,\n",
      "   \"profile_image_url\": \"http://pbs.twimg.com/profile_images/748460992049348612/SITIU0E1_normal.jpg\",\n",
      "   \"profile_image_url_https\": \"https://pbs.twimg.com/profile_images/748460992049348612/SITIU0E1_normal.jpg\",\n",
      "   \"profile_banner_url\": \"https://pbs.twimg.com/profile_banners/748460088495607808/1467283631\",\n",
      "   \"profile_link_color\": \"7FDBB6\",\n",
      "   \"profile_sidebar_border_color\": \"000000\",\n",
      "   \"profile_sidebar_fill_color\": \"000000\",\n",
      "   \"profile_text_color\": \"000000\",\n",
      "   \"profile_use_background_image\": false,\n",
      "   \"has_extended_profile\": true,\n",
      "   \"default_profile\": false,\n",
      "   \"default_profile_image\": false,\n",
      "   \"following\": false,\n",
      "   \"follow_request_sent\": false,\n",
      "   \"notifications\": false,\n",
      "   \"translator_type\": \"none\"\n",
      "  },\n",
      "  \"geo\": null,\n",
      "  \"coordinates\": null,\n",
      "  \"place\": null,\n",
      "  \"contributors\": null,\n",
      "  \"is_quote_status\": false,\n",
      "  \"retweet_count\": 6,\n",
      "  \"favorite_count\": 6,\n",
      "  \"favorited\": false,\n",
      "  \"retweeted\": false,\n",
      "  \"possibly_sensitive\": false,\n",
      "  \"lang\": \"nl\"\n",
      " },\n",
      " \"is_quote_status\": false,\n",
      " \"retweet_count\": 6,\n",
      " \"favorite_count\": 0,\n",
      " \"favorited\": false,\n",
      " \"retweeted\": false,\n",
      " \"lang\": \"nl\"\n",
      "}\n"
     ]
    }
   ],
   "source": [
    "#We decided to search Twitter for use of the word 'duurzaamheid' which translates to 'sustainability' in english,\n",
    "q =('duurzaamheid')\n",
    "\n",
    "count = 100\n",
    "\n",
    "search_results = twitter_api.search.tweets(q=q, count=count)\n",
    "\n",
    "statuses = search_results['statuses']\n",
    "\n",
    "# We set a loop with the aim foriterate through 5 more batches of results by following the cursor\n",
    "\n",
    "for _ in range(5):\n",
    "    print (\"Length of statuses\"), len(statuses)\n",
    "    try:\n",
    "        next_results = search_results['search_metadata']['next_results']\n",
    "    except KeyError: # No more results when next_results doesn't exist\n",
    "        break\n",
    "        \n",
    "    # Creating a dictionary from next_results\n",
    "    \n",
    "    kwargs = dict([ kv.split('=') for kv in next_results[1:].split(\"&\") ])\n",
    "    \n",
    "    search_results = twitter_api.search.tweets(**kwargs)\n",
    "    statuses += search_results['statuses']\n",
    "\n",
    "# Showing a sample search results to make sure we are on the right track. \n",
    "\n",
    "print (json.dumps(statuses[0], indent=1))"
   ]
  },
  {
   "cell_type": "markdown",
   "metadata": {},
   "source": [
    "Above we can see a sample tweet that contains our keyword 'duurzaamheid' from the 29th of January 2018. We can also see the users id and screenname as well as the language used and the location among other details."
   ]
  },
  {
   "cell_type": "code",
   "execution_count": 101,
   "metadata": {},
   "outputs": [
    {
     "name": "stdout",
     "output_type": "stream",
     "text": [
      "[\n",
      " \"RT @TkmstBehendig: Hogeschoolstudenten opgelet! Ben je ge\\u00efnteresseerd in #duurzaamheid, meld je dan voor 5 februari aan voor de afstudeerex\\u2026\",\n",
      " \"RT @RabobankEH: #Klimaatverandering: van vijf over twaalf naar vijf voor twaalf. Volgens Reinier van den Berg, oud weerman van #RTL4, is da\\u2026\",\n",
      " \"@RitadeJoode @GemGeldermalsen Een wijs besluit gewenst. #duurzaamheid\",\n",
      " \"RT @BAMWonen: Duurzaamheid geeft een stevige impuls aan de bouwproductie: Een mooie weergave via @refdag van een goed en waardevol paneldeb\\u2026\",\n",
      " \"RT @harryvanrooijen: Meeting met projecttrekkers en gedeputeerde Anne-Marie Spierings om kansrijk project Veghel Win(d)t de wind in de zeil\\u2026\"\n",
      "]\n",
      "[\n",
      " \"TkmstBehendig\",\n",
      " \"RabobankEH\",\n",
      " \"RitadeJoode\",\n",
      " \"GemGeldermalsen\",\n",
      " \"BAMWonen\"\n",
      "]\n",
      "[\n",
      " \"duurzaamheid\",\n",
      " \"Klimaatverandering\",\n",
      " \"RTL4\",\n",
      " \"duurzaamheid\",\n",
      " \"snelfietsroute\"\n",
      "]\n",
      "[\n",
      " \"RT\",\n",
      " \"@TkmstBehendig:\",\n",
      " \"Hogeschoolstudenten\",\n",
      " \"opgelet!\",\n",
      " \"Ben\"\n",
      "]\n"
     ]
    }
   ],
   "source": [
    "status_texts = [ status['text'] \n",
    "                 for status in statuses ]\n",
    "\n",
    "screen_names = [ user_mention['screen_name'] \n",
    "                 for status in statuses\n",
    "                     for user_mention in status['entities']['user_mentions'] ]\n",
    "\n",
    "hashtags = [ hashtag['text'] \n",
    "             for status in statuses\n",
    "                 for hashtag in status['entities']['hashtags'] ]\n",
    "\n",
    "# Compute a collection of all words from all tweets\n",
    "words = [ w \n",
    "          for t in status_texts \n",
    "              for w in t.split() ]\n",
    "\n",
    "# Explore the first 5 items for each\n",
    "\n",
    "print (json.dumps(status_texts[0:5], indent=1))\n",
    "print (json.dumps(screen_names[0:5], indent=1))\n",
    "print (json.dumps(hashtags[0:5], indent=1))\n",
    "print (json.dumps(words[0:5], indent=1))"
   ]
  },
  {
   "cell_type": "code",
   "execution_count": 102,
   "metadata": {},
   "outputs": [
    {
     "name": "stdout",
     "output_type": "stream",
     "text": [
      "[('RT', 335), ('de', 275), ('van', 271), ('en', 239), ('in', 226), ('voor', 158), ('een', 152), ('het', 149), ('duurzaamheid', 138), ('op', 105), ('is', 101), ('over', 90), ('met', 90), ('#duurzaamheid', 62), ('Duurzaamheid', 61), ('dat', 59), ('hand', 58), ('aan', 52), ('je', 50), ('De', 44)]\n",
      "[('Stadsbeheer050', 29), ('H2Centrum', 29), ('joostvankeulen', 28), ('janrotmans', 18), ('ARakhorst', 12), ('LUX_Nijmegen', 11), ('mkbnl', 9), ('andrehoogendijk', 9), ('odijmond', 9), ('nicothenu', 9), ('oneworldnl', 9), ('TkmstBehendig', 8), ('tvanelferen', 8), ('BREEAMnl', 7), ('TrouwGroen', 7), ('dzh', 7), ('rotterdam', 7), ('exxonmobil', 7), ('D66Nijmegen', 6), ('gemhofvantwente', 6)]\n",
      "[('duurzaamheid', 92), ('Shell', 12), ('Duurzaamheid', 10), ('EZKEnergyAward', 8), ('innovatie', 8), ('Kloosterboer', 7), ('outstanding', 7), ('SDGs', 7), ('NAM', 7), ('overheid', 7), ('3bwonen', 6), ('kansenvooriedereen', 6), ('circulaire', 6), ('economie', 6), ('tomaat', 6), ('burgers', 6), ('Doemee', 6), ('GR18', 6), ('Klimaatverandering', 5), ('Terschelling', 5)]\n"
     ]
    }
   ],
   "source": [
    "#Here we import a counter and use it to count how many times each of the most common words were mentioned.\n",
    "from collections import Counter\n",
    "\n",
    "for item in [words, screen_names, hashtags]:\n",
    "    c = Counter(item)\n",
    "    print (c.most_common()[:20]) # top 10\n",
    "    print"
   ]
  },
  {
   "cell_type": "code",
   "execution_count": 103,
   "metadata": {
    "collapsed": true
   },
   "outputs": [],
   "source": [
    "#we can organise this data into tables using PrettyTable\n",
    "from prettytable import PrettyTable\n",
    "import datetime \n",
    "import requests"
   ]
  },
  {
   "cell_type": "code",
   "execution_count": 120,
   "metadata": {},
   "outputs": [
    {
     "name": "stdout",
     "output_type": "stream",
     "text": [
      "+---------------+-------+\n",
      "| Word          | Count |\n",
      "+---------------+-------+\n",
      "| RT            |   335 |\n",
      "| de            |   275 |\n",
      "| van           |   271 |\n",
      "| en            |   239 |\n",
      "| in            |   226 |\n",
      "| voor          |   158 |\n",
      "| een           |   152 |\n",
      "| het           |   149 |\n",
      "| duurzaamheid  |   138 |\n",
      "| op            |   105 |\n",
      "| is            |   101 |\n",
      "| over          |    90 |\n",
      "| met           |    90 |\n",
      "| #duurzaamheid |    62 |\n",
      "| Duurzaamheid  |    61 |\n",
      "+---------------+-------+\n",
      "+-----------------+-------+\n",
      "| Screen Name     | Count |\n",
      "+-----------------+-------+\n",
      "| Stadsbeheer050  |    29 |\n",
      "| H2Centrum       |    29 |\n",
      "| joostvankeulen  |    28 |\n",
      "| janrotmans      |    18 |\n",
      "| ARakhorst       |    12 |\n",
      "| LUX_Nijmegen    |    11 |\n",
      "| mkbnl           |     9 |\n",
      "| andrehoogendijk |     9 |\n",
      "| odijmond        |     9 |\n",
      "| nicothenu       |     9 |\n",
      "| oneworldnl      |     9 |\n",
      "| TkmstBehendig   |     8 |\n",
      "| tvanelferen     |     8 |\n",
      "| BREEAMnl        |     7 |\n",
      "| TrouwGroen      |     7 |\n",
      "+-----------------+-------+\n",
      "+--------------------+-------+\n",
      "| Hashtag            | Count |\n",
      "+--------------------+-------+\n",
      "| duurzaamheid       |    92 |\n",
      "| Shell              |    12 |\n",
      "| Duurzaamheid       |    10 |\n",
      "| EZKEnergyAward     |     8 |\n",
      "| innovatie          |     8 |\n",
      "| Kloosterboer       |     7 |\n",
      "| outstanding        |     7 |\n",
      "| SDGs               |     7 |\n",
      "| NAM                |     7 |\n",
      "| overheid           |     7 |\n",
      "| 3bwonen            |     6 |\n",
      "| kansenvooriedereen |     6 |\n",
      "| circulaire         |     6 |\n",
      "| economie           |     6 |\n",
      "| tomaat             |     6 |\n",
      "+--------------------+-------+\n"
     ]
    }
   ],
   "source": [
    "for label, data in (('Word', words), \n",
    "                    ('Screen Name', screen_names), \n",
    "                    ('Hashtag', hashtags)):\n",
    "    pt = PrettyTable(field_names=[label, 'Count']) \n",
    "    c = Counter(data)\n",
    "    [ pt.add_row(kv) for kv in c.most_common()[:15] ]\n",
    "    pt.align[label], pt.align['Count'] = 'l', 'r' # Set column alignment\n",
    "    print (pt)"
   ]
  },
  {
   "cell_type": "markdown",
   "metadata": {},
   "source": [
    "Above we  can see that our key word was mentioned 261 times during the time period (in three different times as seen in the first table). In the bottom table we can also see that it was used as a hashtag 102 times (in two different forms). We can also see that when talking about sustainability, users often hashtag related terms such as 'EZEnergyAward', 'Innovation', 'government', and 'economy'."
   ]
  },
  {
   "cell_type": "code",
   "execution_count": 105,
   "metadata": {},
   "outputs": [
    {
     "name": "stdout",
     "output_type": "stream",
     "text": [
      "<class 'twitter.api.TwitterListResponse'>\n"
     ]
    }
   ],
   "source": [
    "print (type(nl_trends))"
   ]
  },
  {
   "cell_type": "code",
   "execution_count": 106,
   "metadata": {
    "collapsed": true
   },
   "outputs": [],
   "source": [
    "def store(tweet):\n",
    "    print(json.dumps(tweet))"
   ]
  },
  {
   "cell_type": "code",
   "execution_count": 107,
   "metadata": {},
   "outputs": [
    {
     "name": "stdout",
     "output_type": "stream",
     "text": [
      "Location, Amount\n",
      ", 119\n",
      "Nederland, 25\n",
      "Amsterdam, 23\n",
      "Nijmegen, 18\n",
      "Netherlands, 12\n",
      "Den Haag, 12\n",
      "Amsterdam, Nederland, 11\n",
      "Rotterdam, 10\n",
      "The Netherlands, 8\n",
      "Groningen, 8\n",
      "Amsterdam, The Netherlands, 8\n",
      "Waalre, 7\n",
      "Arnhem, 6\n",
      "Den Haag, Nederland, 5\n",
      "Beverwijk, 5\n",
      "Wageningen, 5\n",
      "Utrecht, 5\n",
      "Utrecht, Nederland, 4\n",
      "Hengelo, 4\n",
      "Amersfoort, 4\n"
     ]
    }
   ],
   "source": [
    "#Collecting the top 20 locations of the relevant tweets and counting how many times each one is reported.\n",
    "locations = [status['user']['location'] for status in statuses]\n",
    "counter = Counter(locations)\n",
    "print(\"Location, Amount\")\n",
    "for (a, b) in counter.most_common()[:20]:\n",
    "    print(\"{}, {}\".format(a,b))"
   ]
  },
  {
   "cell_type": "markdown",
   "metadata": {},
   "source": [
    "The nature of this data made it difficult to process so we copied it into excel and added the province for each one and then uploaded it is a pandas dataframe."
   ]
  },
  {
   "cell_type": "code",
   "execution_count": 135,
   "metadata": {
    "collapsed": true
   },
   "outputs": [],
   "source": [
    "city_data=pd.read_excel(r\"C:\\Users\\DFOLA_000\\Desktop\\citydata.xlsx\", index_col=0, sep = ';')"
   ]
  },
  {
   "cell_type": "code",
   "execution_count": 136,
   "metadata": {
    "scrolled": true
   },
   "outputs": [
    {
     "data": {
      "text/html": [
       "<div>\n",
       "<style>\n",
       "    .dataframe thead tr:only-child th {\n",
       "        text-align: right;\n",
       "    }\n",
       "\n",
       "    .dataframe thead th {\n",
       "        text-align: left;\n",
       "    }\n",
       "\n",
       "    .dataframe tbody tr th {\n",
       "        vertical-align: top;\n",
       "    }\n",
       "</style>\n",
       "<table border=\"1\" class=\"dataframe\">\n",
       "  <thead>\n",
       "    <tr style=\"text-align: right;\">\n",
       "      <th></th>\n",
       "      <th>Frequency</th>\n",
       "      <th>province</th>\n",
       "      <th>province_2</th>\n",
       "    </tr>\n",
       "    <tr>\n",
       "      <th>city</th>\n",
       "      <th></th>\n",
       "      <th></th>\n",
       "      <th></th>\n",
       "    </tr>\n",
       "  </thead>\n",
       "  <tbody>\n",
       "    <tr>\n",
       "      <th>Amsterdam</th>\n",
       "      <td>40</td>\n",
       "      <td>noord-holland</td>\n",
       "      <td>noord-holland</td>\n",
       "    </tr>\n",
       "    <tr>\n",
       "      <th>Rotterdam</th>\n",
       "      <td>15</td>\n",
       "      <td>zuid-holland</td>\n",
       "      <td>zuid-holland</td>\n",
       "    </tr>\n",
       "    <tr>\n",
       "      <th>Den Haag</th>\n",
       "      <td>16</td>\n",
       "      <td>zuid-holland</td>\n",
       "      <td>zuid-holland</td>\n",
       "    </tr>\n",
       "    <tr>\n",
       "      <th>Groningen</th>\n",
       "      <td>7</td>\n",
       "      <td>groningen</td>\n",
       "      <td>groningen</td>\n",
       "    </tr>\n",
       "    <tr>\n",
       "      <th>Nijmegen</th>\n",
       "      <td>7</td>\n",
       "      <td>gelderland</td>\n",
       "      <td>gelderland</td>\n",
       "    </tr>\n",
       "    <tr>\n",
       "      <th>Waalre</th>\n",
       "      <td>7</td>\n",
       "      <td>noord-brabant</td>\n",
       "      <td>noord-brabant</td>\n",
       "    </tr>\n",
       "    <tr>\n",
       "      <th>Amersfoort</th>\n",
       "      <td>6</td>\n",
       "      <td>utrecht</td>\n",
       "      <td>utrecht</td>\n",
       "    </tr>\n",
       "    <tr>\n",
       "      <th>Beverwijk</th>\n",
       "      <td>5</td>\n",
       "      <td>noord-holland</td>\n",
       "      <td>noord-holland</td>\n",
       "    </tr>\n",
       "    <tr>\n",
       "      <th>Wageningen</th>\n",
       "      <td>5</td>\n",
       "      <td>gelderland</td>\n",
       "      <td>gelderland</td>\n",
       "    </tr>\n",
       "    <tr>\n",
       "      <th>Utrecht</th>\n",
       "      <td>9</td>\n",
       "      <td>utrecht</td>\n",
       "      <td>utrecht</td>\n",
       "    </tr>\n",
       "    <tr>\n",
       "      <th>Hengelo</th>\n",
       "      <td>4</td>\n",
       "      <td>overijssel</td>\n",
       "      <td>overijssel</td>\n",
       "    </tr>\n",
       "    <tr>\n",
       "      <th>Arnhem</th>\n",
       "      <td>4</td>\n",
       "      <td>gelderland</td>\n",
       "      <td>gelderland</td>\n",
       "    </tr>\n",
       "  </tbody>\n",
       "</table>\n",
       "</div>"
      ],
      "text/plain": [
       "            Frequency       province     province_2\n",
       "city                                               \n",
       "Amsterdam          40  noord-holland  noord-holland\n",
       "Rotterdam          15   zuid-holland   zuid-holland\n",
       "Den Haag           16   zuid-holland   zuid-holland\n",
       "Groningen           7      groningen      groningen\n",
       "Nijmegen            7     gelderland     gelderland\n",
       "Waalre              7  noord-brabant  noord-brabant\n",
       "Amersfoort          6        utrecht        utrecht\n",
       "Beverwijk           5  noord-holland  noord-holland\n",
       "Wageningen          5     gelderland     gelderland\n",
       "Utrecht             9        utrecht        utrecht\n",
       "Hengelo             4     overijssel     overijssel\n",
       "Arnhem              4     gelderland     gelderland"
      ]
     },
     "execution_count": 136,
     "metadata": {},
     "output_type": "execute_result"
    }
   ],
   "source": [
    "city_data"
   ]
  },
  {
   "cell_type": "markdown",
   "metadata": {},
   "source": [
    "We then sorted the dataframe by province and calculated total number of relevant tweets in each province"
   ]
  },
  {
   "cell_type": "code",
   "execution_count": 146,
   "metadata": {},
   "outputs": [
    {
     "data": {
      "text/html": [
       "<div>\n",
       "<style>\n",
       "    .dataframe thead tr:only-child th {\n",
       "        text-align: right;\n",
       "    }\n",
       "\n",
       "    .dataframe thead th {\n",
       "        text-align: left;\n",
       "    }\n",
       "\n",
       "    .dataframe tbody tr th {\n",
       "        vertical-align: top;\n",
       "    }\n",
       "</style>\n",
       "<table border=\"1\" class=\"dataframe\">\n",
       "  <thead>\n",
       "    <tr style=\"text-align: right;\">\n",
       "      <th></th>\n",
       "      <th>sum</th>\n",
       "    </tr>\n",
       "    <tr>\n",
       "      <th>province_2</th>\n",
       "      <th></th>\n",
       "    </tr>\n",
       "  </thead>\n",
       "  <tbody>\n",
       "    <tr>\n",
       "      <th>gelderland</th>\n",
       "      <td>16</td>\n",
       "    </tr>\n",
       "    <tr>\n",
       "      <th>groningen</th>\n",
       "      <td>7</td>\n",
       "    </tr>\n",
       "    <tr>\n",
       "      <th>noord-brabant</th>\n",
       "      <td>7</td>\n",
       "    </tr>\n",
       "    <tr>\n",
       "      <th>noord-holland</th>\n",
       "      <td>45</td>\n",
       "    </tr>\n",
       "    <tr>\n",
       "      <th>overijssel</th>\n",
       "      <td>4</td>\n",
       "    </tr>\n",
       "    <tr>\n",
       "      <th>utrecht</th>\n",
       "      <td>15</td>\n",
       "    </tr>\n",
       "    <tr>\n",
       "      <th>zuid-holland</th>\n",
       "      <td>31</td>\n",
       "    </tr>\n",
       "  </tbody>\n",
       "</table>\n",
       "</div>"
      ],
      "text/plain": [
       "               sum\n",
       "province_2        \n",
       "gelderland      16\n",
       "groningen        7\n",
       "noord-brabant    7\n",
       "noord-holland   45\n",
       "overijssel       4\n",
       "utrecht         15\n",
       "zuid-holland    31"
      ]
     },
     "execution_count": 146,
     "metadata": {},
     "output_type": "execute_result"
    }
   ],
   "source": [
    "city_data[\"Frequency\"].groupby(city_data[\"province_2\"]).agg([\"sum\"])"
   ]
  },
  {
   "cell_type": "code",
   "execution_count": 172,
   "metadata": {},
   "outputs": [
    {
     "data": {
      "image/png": "[encoded data removed]",
      "text/plain": [
       "<matplotlib.figure.Figure at 0x52eabea668>"
      ]
     },
     "metadata": {},
     "output_type": "display_data"
    }
   ],
   "source": [
    "city_data[\"Frequency\"].groupby(city_data[\"province_2\"]).agg([\"sum\"]).plot(kind = 'bar', title='Tweets by Province')\n",
    "plt.show()"
   ]
  },
  {
   "cell_type": "markdown",
   "metadata": {},
   "source": [
    "We can see in the bar chart above that Noord-Holland had the most Tweets (45) followed by Zuid-Holland (31)."
   ]
  },
  {
   "cell_type": "code",
   "execution_count": 173,
   "metadata": {},
   "outputs": [
    {
     "data": {
      "image/png": "[encoded data removed]",
      "text/plain": [
       "<matplotlib.figure.Figure at 0x52eb51a1d0>"
      ]
     },
     "metadata": {},
     "output_type": "display_data"
    }
   ],
   "source": [
    "#Reproducing the earlier chart which showed mean scores by province.\n",
    "df[\"resources_waste\"].groupby(df[\"province_duplicate\"]).agg([\"mean\"]).plot(kind = 'bar', title='Mean Score by Province')\n",
    "\n",
    "plt.show()"
   ]
  },
  {
   "cell_type": "markdown",
   "metadata": {},
   "source": [
    "We can compare the two charts above to see if there is any relationship between Twitter activity using the word 'sustainability' and mean scores on the resources and waste inidcator. For the top scoring province in resources and waste, Limburg, there were no relevant tweets while the worst-scoring province, Noord-Holland actually saw the highest number of Tweets on the topic. "
   ]
  }
 ],
 "metadata": {
  "kernelspec": {
   "display_name": "Python 3",
   "language": "python",
   "name": "python3"
  },
  "language_info": {
   "codemirror_mode": {
    "name": "ipython",
    "version": 3
   },
   "file_extension": ".py",
   "mimetype": "text/x-python",
   "name": "python",
   "nbconvert_exporter": "python",
   "pygments_lexer": "ipython3",
   "version": "3.6.1"
  }
 },
 "nbformat": 4,
 "nbformat_minor": 2
}
